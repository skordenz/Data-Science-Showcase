{
  "nbformat": 4,
  "nbformat_minor": 0,
  "metadata": {
    "colab": {
      "provenance": []
    },
    "kernelspec": {
      "name": "python3",
      "display_name": "Python 3"
    },
    "language_info": {
      "name": "python"
    }
  },
  "cells": [
    {
      "cell_type": "markdown",
      "source": [
        "**Раздел 1**"
      ],
      "metadata": {
        "id": "IUn3MvNeHiat"
      }
    },
    {
      "cell_type": "code",
      "execution_count": 1,
      "metadata": {
        "id": "2ZhOkS8AEZrw"
      },
      "outputs": [],
      "source": [
        "#импорт начальных библиотек\n",
        "import pandas as pd\n",
        "import os"
      ]
    },
    {
      "cell_type": "code",
      "source": [
        "#выбор папки\n",
        "os.chdir('/content/drive/MyDrive/datasets')"
      ],
      "metadata": {
        "id": "xrDl0uOZEm90"
      },
      "execution_count": null,
      "outputs": []
    },
    {
      "cell_type": "code",
      "source": [
        "#загрузка датасета\n",
        "df = pd.read_csv('var_2.csv', sep=';')\n",
        "df.head()"
      ],
      "metadata": {
        "colab": {
          "base_uri": "https://localhost:8080/",
          "height": 236
        },
        "id": "N4WaXzEsFWU4",
        "outputId": "ff18c9e6-5372-46de-f62e-04409ae65610"
      },
      "execution_count": null,
      "outputs": [
        {
          "output_type": "execute_result",
          "data": {
            "text/plain": [
              "   Atr1  Atr2  Atr3  Atr4  Atr5  Atr6  Atr7  Atr8  Atr9  Atr10  ...  Atr46  \\\n",
              "0     2     2     4     1     0     0     0     0     0      0  ...      2   \n",
              "1     4     4     4     4     4     0     0     4     4      4  ...      2   \n",
              "2     2     2     2     2     1     3     2     1     1      2  ...      3   \n",
              "3     3     2     3     2     3     3     3     3     3      3  ...      2   \n",
              "4     2     2     1     1     1     1     0     0     0      0  ...      2   \n",
              "\n",
              "   Atr47  Atr48  Atr49  Atr50  Atr51  Atr52  Atr53  Atr54  Class  \n",
              "0      1      3      3      3      2      3      2      1      1  \n",
              "1      2      3      4      4      4      4      2      2      1  \n",
              "2      2      3      1      1      1      2      2      2      1  \n",
              "3      2      3      3      3      3      2      2      2      1  \n",
              "4      1      2      3      2      2      2      1      0      1  \n",
              "\n",
              "[5 rows x 55 columns]"
            ],
            "text/html": [
              "\n",
              "  <div id=\"df-17f88d5e-f3bf-48ea-91f3-a38a030f0e79\">\n",
              "    <div class=\"colab-df-container\">\n",
              "      <div>\n",
              "<style scoped>\n",
              "    .dataframe tbody tr th:only-of-type {\n",
              "        vertical-align: middle;\n",
              "    }\n",
              "\n",
              "    .dataframe tbody tr th {\n",
              "        vertical-align: top;\n",
              "    }\n",
              "\n",
              "    .dataframe thead th {\n",
              "        text-align: right;\n",
              "    }\n",
              "</style>\n",
              "<table border=\"1\" class=\"dataframe\">\n",
              "  <thead>\n",
              "    <tr style=\"text-align: right;\">\n",
              "      <th></th>\n",
              "      <th>Atr1</th>\n",
              "      <th>Atr2</th>\n",
              "      <th>Atr3</th>\n",
              "      <th>Atr4</th>\n",
              "      <th>Atr5</th>\n",
              "      <th>Atr6</th>\n",
              "      <th>Atr7</th>\n",
              "      <th>Atr8</th>\n",
              "      <th>Atr9</th>\n",
              "      <th>Atr10</th>\n",
              "      <th>...</th>\n",
              "      <th>Atr46</th>\n",
              "      <th>Atr47</th>\n",
              "      <th>Atr48</th>\n",
              "      <th>Atr49</th>\n",
              "      <th>Atr50</th>\n",
              "      <th>Atr51</th>\n",
              "      <th>Atr52</th>\n",
              "      <th>Atr53</th>\n",
              "      <th>Atr54</th>\n",
              "      <th>Class</th>\n",
              "    </tr>\n",
              "  </thead>\n",
              "  <tbody>\n",
              "    <tr>\n",
              "      <th>0</th>\n",
              "      <td>2</td>\n",
              "      <td>2</td>\n",
              "      <td>4</td>\n",
              "      <td>1</td>\n",
              "      <td>0</td>\n",
              "      <td>0</td>\n",
              "      <td>0</td>\n",
              "      <td>0</td>\n",
              "      <td>0</td>\n",
              "      <td>0</td>\n",
              "      <td>...</td>\n",
              "      <td>2</td>\n",
              "      <td>1</td>\n",
              "      <td>3</td>\n",
              "      <td>3</td>\n",
              "      <td>3</td>\n",
              "      <td>2</td>\n",
              "      <td>3</td>\n",
              "      <td>2</td>\n",
              "      <td>1</td>\n",
              "      <td>1</td>\n",
              "    </tr>\n",
              "    <tr>\n",
              "      <th>1</th>\n",
              "      <td>4</td>\n",
              "      <td>4</td>\n",
              "      <td>4</td>\n",
              "      <td>4</td>\n",
              "      <td>4</td>\n",
              "      <td>0</td>\n",
              "      <td>0</td>\n",
              "      <td>4</td>\n",
              "      <td>4</td>\n",
              "      <td>4</td>\n",
              "      <td>...</td>\n",
              "      <td>2</td>\n",
              "      <td>2</td>\n",
              "      <td>3</td>\n",
              "      <td>4</td>\n",
              "      <td>4</td>\n",
              "      <td>4</td>\n",
              "      <td>4</td>\n",
              "      <td>2</td>\n",
              "      <td>2</td>\n",
              "      <td>1</td>\n",
              "    </tr>\n",
              "    <tr>\n",
              "      <th>2</th>\n",
              "      <td>2</td>\n",
              "      <td>2</td>\n",
              "      <td>2</td>\n",
              "      <td>2</td>\n",
              "      <td>1</td>\n",
              "      <td>3</td>\n",
              "      <td>2</td>\n",
              "      <td>1</td>\n",
              "      <td>1</td>\n",
              "      <td>2</td>\n",
              "      <td>...</td>\n",
              "      <td>3</td>\n",
              "      <td>2</td>\n",
              "      <td>3</td>\n",
              "      <td>1</td>\n",
              "      <td>1</td>\n",
              "      <td>1</td>\n",
              "      <td>2</td>\n",
              "      <td>2</td>\n",
              "      <td>2</td>\n",
              "      <td>1</td>\n",
              "    </tr>\n",
              "    <tr>\n",
              "      <th>3</th>\n",
              "      <td>3</td>\n",
              "      <td>2</td>\n",
              "      <td>3</td>\n",
              "      <td>2</td>\n",
              "      <td>3</td>\n",
              "      <td>3</td>\n",
              "      <td>3</td>\n",
              "      <td>3</td>\n",
              "      <td>3</td>\n",
              "      <td>3</td>\n",
              "      <td>...</td>\n",
              "      <td>2</td>\n",
              "      <td>2</td>\n",
              "      <td>3</td>\n",
              "      <td>3</td>\n",
              "      <td>3</td>\n",
              "      <td>3</td>\n",
              "      <td>2</td>\n",
              "      <td>2</td>\n",
              "      <td>2</td>\n",
              "      <td>1</td>\n",
              "    </tr>\n",
              "    <tr>\n",
              "      <th>4</th>\n",
              "      <td>2</td>\n",
              "      <td>2</td>\n",
              "      <td>1</td>\n",
              "      <td>1</td>\n",
              "      <td>1</td>\n",
              "      <td>1</td>\n",
              "      <td>0</td>\n",
              "      <td>0</td>\n",
              "      <td>0</td>\n",
              "      <td>0</td>\n",
              "      <td>...</td>\n",
              "      <td>2</td>\n",
              "      <td>1</td>\n",
              "      <td>2</td>\n",
              "      <td>3</td>\n",
              "      <td>2</td>\n",
              "      <td>2</td>\n",
              "      <td>2</td>\n",
              "      <td>1</td>\n",
              "      <td>0</td>\n",
              "      <td>1</td>\n",
              "    </tr>\n",
              "  </tbody>\n",
              "</table>\n",
              "<p>5 rows × 55 columns</p>\n",
              "</div>\n",
              "      <button class=\"colab-df-convert\" onclick=\"convertToInteractive('df-17f88d5e-f3bf-48ea-91f3-a38a030f0e79')\"\n",
              "              title=\"Convert this dataframe to an interactive table.\"\n",
              "              style=\"display:none;\">\n",
              "        \n",
              "  <svg xmlns=\"http://www.w3.org/2000/svg\" height=\"24px\"viewBox=\"0 0 24 24\"\n",
              "       width=\"24px\">\n",
              "    <path d=\"M0 0h24v24H0V0z\" fill=\"none\"/>\n",
              "    <path d=\"M18.56 5.44l.94 2.06.94-2.06 2.06-.94-2.06-.94-.94-2.06-.94 2.06-2.06.94zm-11 1L8.5 8.5l.94-2.06 2.06-.94-2.06-.94L8.5 2.5l-.94 2.06-2.06.94zm10 10l.94 2.06.94-2.06 2.06-.94-2.06-.94-.94-2.06-.94 2.06-2.06.94z\"/><path d=\"M17.41 7.96l-1.37-1.37c-.4-.4-.92-.59-1.43-.59-.52 0-1.04.2-1.43.59L10.3 9.45l-7.72 7.72c-.78.78-.78 2.05 0 2.83L4 21.41c.39.39.9.59 1.41.59.51 0 1.02-.2 1.41-.59l7.78-7.78 2.81-2.81c.8-.78.8-2.07 0-2.86zM5.41 20L4 18.59l7.72-7.72 1.47 1.35L5.41 20z\"/>\n",
              "  </svg>\n",
              "      </button>\n",
              "      \n",
              "  <style>\n",
              "    .colab-df-container {\n",
              "      display:flex;\n",
              "      flex-wrap:wrap;\n",
              "      gap: 12px;\n",
              "    }\n",
              "\n",
              "    .colab-df-convert {\n",
              "      background-color: #E8F0FE;\n",
              "      border: none;\n",
              "      border-radius: 50%;\n",
              "      cursor: pointer;\n",
              "      display: none;\n",
              "      fill: #1967D2;\n",
              "      height: 32px;\n",
              "      padding: 0 0 0 0;\n",
              "      width: 32px;\n",
              "    }\n",
              "\n",
              "    .colab-df-convert:hover {\n",
              "      background-color: #E2EBFA;\n",
              "      box-shadow: 0px 1px 2px rgba(60, 64, 67, 0.3), 0px 1px 3px 1px rgba(60, 64, 67, 0.15);\n",
              "      fill: #174EA6;\n",
              "    }\n",
              "\n",
              "    [theme=dark] .colab-df-convert {\n",
              "      background-color: #3B4455;\n",
              "      fill: #D2E3FC;\n",
              "    }\n",
              "\n",
              "    [theme=dark] .colab-df-convert:hover {\n",
              "      background-color: #434B5C;\n",
              "      box-shadow: 0px 1px 3px 1px rgba(0, 0, 0, 0.15);\n",
              "      filter: drop-shadow(0px 1px 2px rgba(0, 0, 0, 0.3));\n",
              "      fill: #FFFFFF;\n",
              "    }\n",
              "  </style>\n",
              "\n",
              "      <script>\n",
              "        const buttonEl =\n",
              "          document.querySelector('#df-17f88d5e-f3bf-48ea-91f3-a38a030f0e79 button.colab-df-convert');\n",
              "        buttonEl.style.display =\n",
              "          google.colab.kernel.accessAllowed ? 'block' : 'none';\n",
              "\n",
              "        async function convertToInteractive(key) {\n",
              "          const element = document.querySelector('#df-17f88d5e-f3bf-48ea-91f3-a38a030f0e79');\n",
              "          const dataTable =\n",
              "            await google.colab.kernel.invokeFunction('convertToInteractive',\n",
              "                                                     [key], {});\n",
              "          if (!dataTable) return;\n",
              "\n",
              "          const docLinkHtml = 'Like what you see? Visit the ' +\n",
              "            '<a target=\"_blank\" href=https://colab.research.google.com/notebooks/data_table.ipynb>data table notebook</a>'\n",
              "            + ' to learn more about interactive tables.';\n",
              "          element.innerHTML = '';\n",
              "          dataTable['output_type'] = 'display_data';\n",
              "          await google.colab.output.renderOutput(dataTable, element);\n",
              "          const docLink = document.createElement('div');\n",
              "          docLink.innerHTML = docLinkHtml;\n",
              "          element.appendChild(docLink);\n",
              "        }\n",
              "      </script>\n",
              "    </div>\n",
              "  </div>\n",
              "  "
            ]
          },
          "metadata": {},
          "execution_count": 6
        }
      ]
    },
    {
      "cell_type": "code",
      "source": [
        "#выясняем общую информацию и размерность датасета\n",
        "df.size"
      ],
      "metadata": {
        "colab": {
          "base_uri": "https://localhost:8080/"
        },
        "id": "CxL7g02rFexP",
        "outputId": "543a1b58-2623-49b9-ba4d-7dd690b0cf34"
      },
      "execution_count": null,
      "outputs": [
        {
          "output_type": "execute_result",
          "data": {
            "text/plain": [
              "9350"
            ]
          },
          "metadata": {},
          "execution_count": 7
        }
      ]
    },
    {
      "cell_type": "code",
      "source": [
        "df.shape"
      ],
      "metadata": {
        "colab": {
          "base_uri": "https://localhost:8080/"
        },
        "id": "p5kiGIRLGNOG",
        "outputId": "eb866efb-7636-4acc-a3e7-59b7e9a8e3a6"
      },
      "execution_count": null,
      "outputs": [
        {
          "output_type": "execute_result",
          "data": {
            "text/plain": [
              "(170, 55)"
            ]
          },
          "metadata": {},
          "execution_count": 8
        }
      ]
    },
    {
      "cell_type": "code",
      "source": [
        "df.info()"
      ],
      "metadata": {
        "colab": {
          "base_uri": "https://localhost:8080/"
        },
        "id": "chjxNS2XGS9f",
        "outputId": "efd8065b-b8d6-4a86-df92-265d8e475dec"
      },
      "execution_count": null,
      "outputs": [
        {
          "output_type": "stream",
          "name": "stdout",
          "text": [
            "<class 'pandas.core.frame.DataFrame'>\n",
            "RangeIndex: 170 entries, 0 to 169\n",
            "Data columns (total 55 columns):\n",
            " #   Column  Non-Null Count  Dtype\n",
            "---  ------  --------------  -----\n",
            " 0   Atr1    170 non-null    int64\n",
            " 1   Atr2    170 non-null    int64\n",
            " 2   Atr3    170 non-null    int64\n",
            " 3   Atr4    170 non-null    int64\n",
            " 4   Atr5    170 non-null    int64\n",
            " 5   Atr6    170 non-null    int64\n",
            " 6   Atr7    170 non-null    int64\n",
            " 7   Atr8    170 non-null    int64\n",
            " 8   Atr9    170 non-null    int64\n",
            " 9   Atr10   170 non-null    int64\n",
            " 10  Atr11   170 non-null    int64\n",
            " 11  Atr12   170 non-null    int64\n",
            " 12  Atr13   170 non-null    int64\n",
            " 13  Atr14   170 non-null    int64\n",
            " 14  Atr15   170 non-null    int64\n",
            " 15  Atr16   170 non-null    int64\n",
            " 16  Atr17   170 non-null    int64\n",
            " 17  Atr18   170 non-null    int64\n",
            " 18  Atr19   170 non-null    int64\n",
            " 19  Atr20   170 non-null    int64\n",
            " 20  Atr21   170 non-null    int64\n",
            " 21  Atr22   170 non-null    int64\n",
            " 22  Atr23   170 non-null    int64\n",
            " 23  Atr24   170 non-null    int64\n",
            " 24  Atr25   170 non-null    int64\n",
            " 25  Atr26   170 non-null    int64\n",
            " 26  Atr27   170 non-null    int64\n",
            " 27  Atr28   170 non-null    int64\n",
            " 28  Atr29   170 non-null    int64\n",
            " 29  Atr30   170 non-null    int64\n",
            " 30  Atr31   170 non-null    int64\n",
            " 31  Atr32   170 non-null    int64\n",
            " 32  Atr33   170 non-null    int64\n",
            " 33  Atr34   170 non-null    int64\n",
            " 34  Atr35   170 non-null    int64\n",
            " 35  Atr36   170 non-null    int64\n",
            " 36  Atr37   170 non-null    int64\n",
            " 37  Atr38   170 non-null    int64\n",
            " 38  Atr39   170 non-null    int64\n",
            " 39  Atr40   170 non-null    int64\n",
            " 40  Atr41   170 non-null    int64\n",
            " 41  Atr42   170 non-null    int64\n",
            " 42  Atr43   170 non-null    int64\n",
            " 43  Atr44   170 non-null    int64\n",
            " 44  Atr45   170 non-null    int64\n",
            " 45  Atr46   170 non-null    int64\n",
            " 46  Atr47   170 non-null    int64\n",
            " 47  Atr48   170 non-null    int64\n",
            " 48  Atr49   170 non-null    int64\n",
            " 49  Atr50   170 non-null    int64\n",
            " 50  Atr51   170 non-null    int64\n",
            " 51  Atr52   170 non-null    int64\n",
            " 52  Atr53   170 non-null    int64\n",
            " 53  Atr54   170 non-null    int64\n",
            " 54  Class   170 non-null    int64\n",
            "dtypes: int64(55)\n",
            "memory usage: 73.2 KB\n"
          ]
        }
      ]
    },
    {
      "cell_type": "code",
      "source": [
        "df.describe()"
      ],
      "metadata": {
        "colab": {
          "base_uri": "https://localhost:8080/",
          "height": 394
        },
        "id": "gPkCEM4sGm5P",
        "outputId": "2b164c9a-a366-4056-f750-2b2d3812de1b"
      },
      "execution_count": null,
      "outputs": [
        {
          "output_type": "execute_result",
          "data": {
            "text/plain": [
              "             Atr1        Atr2        Atr3        Atr4        Atr5        Atr6  \\\n",
              "count  170.000000  170.000000  170.000000  170.000000  170.000000  170.000000   \n",
              "mean     1.776471    1.652941    1.764706    1.482353    1.541176    0.747059   \n",
              "std      1.627257    1.468654    1.415444    1.504327    1.632169    0.904046   \n",
              "min      0.000000    0.000000    0.000000    0.000000    0.000000    0.000000   \n",
              "25%      0.000000    0.000000    0.000000    0.000000    0.000000    0.000000   \n",
              "50%      2.000000    2.000000    2.000000    1.000000    1.000000    0.000000   \n",
              "75%      3.000000    3.000000    3.000000    3.000000    3.000000    1.000000   \n",
              "max      4.000000    4.000000    4.000000    4.000000    4.000000    4.000000   \n",
              "\n",
              "             Atr7        Atr8        Atr9       Atr10  ...       Atr46  \\\n",
              "count  170.000000  170.000000  170.000000  170.000000  ...  170.000000   \n",
              "mean     0.494118    1.452941    1.458824    1.576471  ...    2.552941   \n",
              "std      0.898698    1.546371    1.557976    1.421529  ...    1.371786   \n",
              "min      0.000000    0.000000    0.000000    0.000000  ...    0.000000   \n",
              "25%      0.000000    0.000000    0.000000    0.000000  ...    2.000000   \n",
              "50%      0.000000    1.000000    1.000000    2.000000  ...    3.000000   \n",
              "75%      1.000000    3.000000    3.000000    3.000000  ...    4.000000   \n",
              "max      4.000000    4.000000    4.000000    4.000000  ...    4.000000   \n",
              "\n",
              "            Atr47       Atr48       Atr49       Atr50       Atr51       Atr52  \\\n",
              "count  170.000000  170.000000  170.000000  170.000000  170.000000  170.000000   \n",
              "mean     2.270588    2.741176    2.382353    2.429412    2.476471    2.517647   \n",
              "std      1.586841    1.137348    1.511587    1.405090    1.260238    1.476537   \n",
              "min      0.000000    0.000000    0.000000    0.000000    0.000000    0.000000   \n",
              "25%      1.000000    2.000000    1.000000    1.000000    2.000000    1.000000   \n",
              "50%      2.000000    3.000000    3.000000    2.000000    3.000000    3.000000   \n",
              "75%      4.000000    4.000000    4.000000    4.000000    4.000000    4.000000   \n",
              "max      4.000000    4.000000    4.000000    4.000000    4.000000    4.000000   \n",
              "\n",
              "            Atr53       Atr54       Class  \n",
              "count  170.000000  170.000000  170.000000  \n",
              "mean     2.241176    2.011765    0.494118  \n",
              "std      1.505634    1.667611    0.501442  \n",
              "min      0.000000    0.000000    0.000000  \n",
              "25%      1.000000    0.000000    0.000000  \n",
              "50%      2.000000    2.000000    0.000000  \n",
              "75%      4.000000    4.000000    1.000000  \n",
              "max      4.000000    4.000000    1.000000  \n",
              "\n",
              "[8 rows x 55 columns]"
            ],
            "text/html": [
              "\n",
              "  <div id=\"df-837b4a1b-4335-4c79-bb76-673903aa4025\">\n",
              "    <div class=\"colab-df-container\">\n",
              "      <div>\n",
              "<style scoped>\n",
              "    .dataframe tbody tr th:only-of-type {\n",
              "        vertical-align: middle;\n",
              "    }\n",
              "\n",
              "    .dataframe tbody tr th {\n",
              "        vertical-align: top;\n",
              "    }\n",
              "\n",
              "    .dataframe thead th {\n",
              "        text-align: right;\n",
              "    }\n",
              "</style>\n",
              "<table border=\"1\" class=\"dataframe\">\n",
              "  <thead>\n",
              "    <tr style=\"text-align: right;\">\n",
              "      <th></th>\n",
              "      <th>Atr1</th>\n",
              "      <th>Atr2</th>\n",
              "      <th>Atr3</th>\n",
              "      <th>Atr4</th>\n",
              "      <th>Atr5</th>\n",
              "      <th>Atr6</th>\n",
              "      <th>Atr7</th>\n",
              "      <th>Atr8</th>\n",
              "      <th>Atr9</th>\n",
              "      <th>Atr10</th>\n",
              "      <th>...</th>\n",
              "      <th>Atr46</th>\n",
              "      <th>Atr47</th>\n",
              "      <th>Atr48</th>\n",
              "      <th>Atr49</th>\n",
              "      <th>Atr50</th>\n",
              "      <th>Atr51</th>\n",
              "      <th>Atr52</th>\n",
              "      <th>Atr53</th>\n",
              "      <th>Atr54</th>\n",
              "      <th>Class</th>\n",
              "    </tr>\n",
              "  </thead>\n",
              "  <tbody>\n",
              "    <tr>\n",
              "      <th>count</th>\n",
              "      <td>170.000000</td>\n",
              "      <td>170.000000</td>\n",
              "      <td>170.000000</td>\n",
              "      <td>170.000000</td>\n",
              "      <td>170.000000</td>\n",
              "      <td>170.000000</td>\n",
              "      <td>170.000000</td>\n",
              "      <td>170.000000</td>\n",
              "      <td>170.000000</td>\n",
              "      <td>170.000000</td>\n",
              "      <td>...</td>\n",
              "      <td>170.000000</td>\n",
              "      <td>170.000000</td>\n",
              "      <td>170.000000</td>\n",
              "      <td>170.000000</td>\n",
              "      <td>170.000000</td>\n",
              "      <td>170.000000</td>\n",
              "      <td>170.000000</td>\n",
              "      <td>170.000000</td>\n",
              "      <td>170.000000</td>\n",
              "      <td>170.000000</td>\n",
              "    </tr>\n",
              "    <tr>\n",
              "      <th>mean</th>\n",
              "      <td>1.776471</td>\n",
              "      <td>1.652941</td>\n",
              "      <td>1.764706</td>\n",
              "      <td>1.482353</td>\n",
              "      <td>1.541176</td>\n",
              "      <td>0.747059</td>\n",
              "      <td>0.494118</td>\n",
              "      <td>1.452941</td>\n",
              "      <td>1.458824</td>\n",
              "      <td>1.576471</td>\n",
              "      <td>...</td>\n",
              "      <td>2.552941</td>\n",
              "      <td>2.270588</td>\n",
              "      <td>2.741176</td>\n",
              "      <td>2.382353</td>\n",
              "      <td>2.429412</td>\n",
              "      <td>2.476471</td>\n",
              "      <td>2.517647</td>\n",
              "      <td>2.241176</td>\n",
              "      <td>2.011765</td>\n",
              "      <td>0.494118</td>\n",
              "    </tr>\n",
              "    <tr>\n",
              "      <th>std</th>\n",
              "      <td>1.627257</td>\n",
              "      <td>1.468654</td>\n",
              "      <td>1.415444</td>\n",
              "      <td>1.504327</td>\n",
              "      <td>1.632169</td>\n",
              "      <td>0.904046</td>\n",
              "      <td>0.898698</td>\n",
              "      <td>1.546371</td>\n",
              "      <td>1.557976</td>\n",
              "      <td>1.421529</td>\n",
              "      <td>...</td>\n",
              "      <td>1.371786</td>\n",
              "      <td>1.586841</td>\n",
              "      <td>1.137348</td>\n",
              "      <td>1.511587</td>\n",
              "      <td>1.405090</td>\n",
              "      <td>1.260238</td>\n",
              "      <td>1.476537</td>\n",
              "      <td>1.505634</td>\n",
              "      <td>1.667611</td>\n",
              "      <td>0.501442</td>\n",
              "    </tr>\n",
              "    <tr>\n",
              "      <th>min</th>\n",
              "      <td>0.000000</td>\n",
              "      <td>0.000000</td>\n",
              "      <td>0.000000</td>\n",
              "      <td>0.000000</td>\n",
              "      <td>0.000000</td>\n",
              "      <td>0.000000</td>\n",
              "      <td>0.000000</td>\n",
              "      <td>0.000000</td>\n",
              "      <td>0.000000</td>\n",
              "      <td>0.000000</td>\n",
              "      <td>...</td>\n",
              "      <td>0.000000</td>\n",
              "      <td>0.000000</td>\n",
              "      <td>0.000000</td>\n",
              "      <td>0.000000</td>\n",
              "      <td>0.000000</td>\n",
              "      <td>0.000000</td>\n",
              "      <td>0.000000</td>\n",
              "      <td>0.000000</td>\n",
              "      <td>0.000000</td>\n",
              "      <td>0.000000</td>\n",
              "    </tr>\n",
              "    <tr>\n",
              "      <th>25%</th>\n",
              "      <td>0.000000</td>\n",
              "      <td>0.000000</td>\n",
              "      <td>0.000000</td>\n",
              "      <td>0.000000</td>\n",
              "      <td>0.000000</td>\n",
              "      <td>0.000000</td>\n",
              "      <td>0.000000</td>\n",
              "      <td>0.000000</td>\n",
              "      <td>0.000000</td>\n",
              "      <td>0.000000</td>\n",
              "      <td>...</td>\n",
              "      <td>2.000000</td>\n",
              "      <td>1.000000</td>\n",
              "      <td>2.000000</td>\n",
              "      <td>1.000000</td>\n",
              "      <td>1.000000</td>\n",
              "      <td>2.000000</td>\n",
              "      <td>1.000000</td>\n",
              "      <td>1.000000</td>\n",
              "      <td>0.000000</td>\n",
              "      <td>0.000000</td>\n",
              "    </tr>\n",
              "    <tr>\n",
              "      <th>50%</th>\n",
              "      <td>2.000000</td>\n",
              "      <td>2.000000</td>\n",
              "      <td>2.000000</td>\n",
              "      <td>1.000000</td>\n",
              "      <td>1.000000</td>\n",
              "      <td>0.000000</td>\n",
              "      <td>0.000000</td>\n",
              "      <td>1.000000</td>\n",
              "      <td>1.000000</td>\n",
              "      <td>2.000000</td>\n",
              "      <td>...</td>\n",
              "      <td>3.000000</td>\n",
              "      <td>2.000000</td>\n",
              "      <td>3.000000</td>\n",
              "      <td>3.000000</td>\n",
              "      <td>2.000000</td>\n",
              "      <td>3.000000</td>\n",
              "      <td>3.000000</td>\n",
              "      <td>2.000000</td>\n",
              "      <td>2.000000</td>\n",
              "      <td>0.000000</td>\n",
              "    </tr>\n",
              "    <tr>\n",
              "      <th>75%</th>\n",
              "      <td>3.000000</td>\n",
              "      <td>3.000000</td>\n",
              "      <td>3.000000</td>\n",
              "      <td>3.000000</td>\n",
              "      <td>3.000000</td>\n",
              "      <td>1.000000</td>\n",
              "      <td>1.000000</td>\n",
              "      <td>3.000000</td>\n",
              "      <td>3.000000</td>\n",
              "      <td>3.000000</td>\n",
              "      <td>...</td>\n",
              "      <td>4.000000</td>\n",
              "      <td>4.000000</td>\n",
              "      <td>4.000000</td>\n",
              "      <td>4.000000</td>\n",
              "      <td>4.000000</td>\n",
              "      <td>4.000000</td>\n",
              "      <td>4.000000</td>\n",
              "      <td>4.000000</td>\n",
              "      <td>4.000000</td>\n",
              "      <td>1.000000</td>\n",
              "    </tr>\n",
              "    <tr>\n",
              "      <th>max</th>\n",
              "      <td>4.000000</td>\n",
              "      <td>4.000000</td>\n",
              "      <td>4.000000</td>\n",
              "      <td>4.000000</td>\n",
              "      <td>4.000000</td>\n",
              "      <td>4.000000</td>\n",
              "      <td>4.000000</td>\n",
              "      <td>4.000000</td>\n",
              "      <td>4.000000</td>\n",
              "      <td>4.000000</td>\n",
              "      <td>...</td>\n",
              "      <td>4.000000</td>\n",
              "      <td>4.000000</td>\n",
              "      <td>4.000000</td>\n",
              "      <td>4.000000</td>\n",
              "      <td>4.000000</td>\n",
              "      <td>4.000000</td>\n",
              "      <td>4.000000</td>\n",
              "      <td>4.000000</td>\n",
              "      <td>4.000000</td>\n",
              "      <td>1.000000</td>\n",
              "    </tr>\n",
              "  </tbody>\n",
              "</table>\n",
              "<p>8 rows × 55 columns</p>\n",
              "</div>\n",
              "      <button class=\"colab-df-convert\" onclick=\"convertToInteractive('df-837b4a1b-4335-4c79-bb76-673903aa4025')\"\n",
              "              title=\"Convert this dataframe to an interactive table.\"\n",
              "              style=\"display:none;\">\n",
              "        \n",
              "  <svg xmlns=\"http://www.w3.org/2000/svg\" height=\"24px\"viewBox=\"0 0 24 24\"\n",
              "       width=\"24px\">\n",
              "    <path d=\"M0 0h24v24H0V0z\" fill=\"none\"/>\n",
              "    <path d=\"M18.56 5.44l.94 2.06.94-2.06 2.06-.94-2.06-.94-.94-2.06-.94 2.06-2.06.94zm-11 1L8.5 8.5l.94-2.06 2.06-.94-2.06-.94L8.5 2.5l-.94 2.06-2.06.94zm10 10l.94 2.06.94-2.06 2.06-.94-2.06-.94-.94-2.06-.94 2.06-2.06.94z\"/><path d=\"M17.41 7.96l-1.37-1.37c-.4-.4-.92-.59-1.43-.59-.52 0-1.04.2-1.43.59L10.3 9.45l-7.72 7.72c-.78.78-.78 2.05 0 2.83L4 21.41c.39.39.9.59 1.41.59.51 0 1.02-.2 1.41-.59l7.78-7.78 2.81-2.81c.8-.78.8-2.07 0-2.86zM5.41 20L4 18.59l7.72-7.72 1.47 1.35L5.41 20z\"/>\n",
              "  </svg>\n",
              "      </button>\n",
              "      \n",
              "  <style>\n",
              "    .colab-df-container {\n",
              "      display:flex;\n",
              "      flex-wrap:wrap;\n",
              "      gap: 12px;\n",
              "    }\n",
              "\n",
              "    .colab-df-convert {\n",
              "      background-color: #E8F0FE;\n",
              "      border: none;\n",
              "      border-radius: 50%;\n",
              "      cursor: pointer;\n",
              "      display: none;\n",
              "      fill: #1967D2;\n",
              "      height: 32px;\n",
              "      padding: 0 0 0 0;\n",
              "      width: 32px;\n",
              "    }\n",
              "\n",
              "    .colab-df-convert:hover {\n",
              "      background-color: #E2EBFA;\n",
              "      box-shadow: 0px 1px 2px rgba(60, 64, 67, 0.3), 0px 1px 3px 1px rgba(60, 64, 67, 0.15);\n",
              "      fill: #174EA6;\n",
              "    }\n",
              "\n",
              "    [theme=dark] .colab-df-convert {\n",
              "      background-color: #3B4455;\n",
              "      fill: #D2E3FC;\n",
              "    }\n",
              "\n",
              "    [theme=dark] .colab-df-convert:hover {\n",
              "      background-color: #434B5C;\n",
              "      box-shadow: 0px 1px 3px 1px rgba(0, 0, 0, 0.15);\n",
              "      filter: drop-shadow(0px 1px 2px rgba(0, 0, 0, 0.3));\n",
              "      fill: #FFFFFF;\n",
              "    }\n",
              "  </style>\n",
              "\n",
              "      <script>\n",
              "        const buttonEl =\n",
              "          document.querySelector('#df-837b4a1b-4335-4c79-bb76-673903aa4025 button.colab-df-convert');\n",
              "        buttonEl.style.display =\n",
              "          google.colab.kernel.accessAllowed ? 'block' : 'none';\n",
              "\n",
              "        async function convertToInteractive(key) {\n",
              "          const element = document.querySelector('#df-837b4a1b-4335-4c79-bb76-673903aa4025');\n",
              "          const dataTable =\n",
              "            await google.colab.kernel.invokeFunction('convertToInteractive',\n",
              "                                                     [key], {});\n",
              "          if (!dataTable) return;\n",
              "\n",
              "          const docLinkHtml = 'Like what you see? Visit the ' +\n",
              "            '<a target=\"_blank\" href=https://colab.research.google.com/notebooks/data_table.ipynb>data table notebook</a>'\n",
              "            + ' to learn more about interactive tables.';\n",
              "          element.innerHTML = '';\n",
              "          dataTable['output_type'] = 'display_data';\n",
              "          await google.colab.output.renderOutput(dataTable, element);\n",
              "          const docLink = document.createElement('div');\n",
              "          docLink.innerHTML = docLinkHtml;\n",
              "          element.appendChild(docLink);\n",
              "        }\n",
              "      </script>\n",
              "    </div>\n",
              "  </div>\n",
              "  "
            ]
          },
          "metadata": {},
          "execution_count": 11
        }
      ]
    },
    {
      "cell_type": "code",
      "source": [
        "#проверяем сбалансированность target-переменной\n",
        "df.groupby('Class').size()"
      ],
      "metadata": {
        "id": "jiyEdIEoGtEu"
      },
      "execution_count": null,
      "outputs": []
    },
    {
      "cell_type": "markdown",
      "source": [
        "**Раздел 2**"
      ],
      "metadata": {
        "id": "3XOqOMToHpVF"
      }
    },
    {
      "cell_type": "code",
      "source": [
        "#импорт 5 моделей классификации\n",
        "from sklearn.neighbors import KNeighborsClassifier\n",
        "from sklearn.naive_bayes import GaussianNB\n",
        "from sklearn.tree import DecisionTreeClassifier\n",
        "from sklearn.linear_model import LogisticRegression\n",
        "from sklearn.svm import SVC"
      ],
      "metadata": {
        "id": "TKBMATdCHsKd"
      },
      "execution_count": null,
      "outputs": []
    },
    {
      "cell_type": "code",
      "source": [
        "from sklearn.model_selection import KFold, cross_val_score, cross_val_predict\n",
        "from sklearn.model_selection import train_test_split"
      ],
      "metadata": {
        "id": "BUtv4ly3IJAW"
      },
      "execution_count": null,
      "outputs": []
    },
    {
      "cell_type": "code",
      "source": [
        "df['Class'] = df['Class'].astype('category')"
      ],
      "metadata": {
        "id": "Hy8T4FZzIBl1"
      },
      "execution_count": null,
      "outputs": []
    },
    {
      "cell_type": "code",
      "source": [
        "#перекодировка\n",
        "cat_columns = df.select_dtypes(['category']).columns\n",
        "df[cat_columns] = df[cat_columns].apply(lambda x: x.cat.codes)"
      ],
      "metadata": {
        "id": "cm0a0JG_KJMM"
      },
      "execution_count": null,
      "outputs": []
    },
    {
      "cell_type": "code",
      "source": [
        "df.Class.dtype"
      ],
      "metadata": {
        "colab": {
          "base_uri": "https://localhost:8080/"
        },
        "id": "iEUEm1xoIolV",
        "outputId": "c365b8d8-1200-4d52-ecd6-63076d98978c"
      },
      "execution_count": null,
      "outputs": [
        {
          "output_type": "execute_result",
          "data": {
            "text/plain": [
              "dtype('int8')"
            ]
          },
          "metadata": {},
          "execution_count": 40
        }
      ]
    },
    {
      "cell_type": "code",
      "source": [
        "#выделяем features и target-переменную (способ №1)\n",
        "array = df.values\n",
        "x = array[:, 0:54]\n",
        "y = array[:, 54]"
      ],
      "metadata": {
        "id": "aA5OTI0IIxnF"
      },
      "execution_count": null,
      "outputs": []
    },
    {
      "cell_type": "code",
      "source": [
        "x.shape"
      ],
      "metadata": {
        "colab": {
          "base_uri": "https://localhost:8080/"
        },
        "id": "MJ0js6ttWjJx",
        "outputId": "2d720378-158c-44e2-fcdc-0aeb48cdc409"
      },
      "execution_count": null,
      "outputs": [
        {
          "output_type": "execute_result",
          "data": {
            "text/plain": [
              "(170, 54)"
            ]
          },
          "metadata": {},
          "execution_count": 117
        }
      ]
    },
    {
      "cell_type": "code",
      "source": [
        "y.shape"
      ],
      "metadata": {
        "colab": {
          "base_uri": "https://localhost:8080/"
        },
        "id": "AG82DGAfWn-i",
        "outputId": "67bc77d8-18ed-45c4-e69a-faedf83a1619"
      },
      "execution_count": null,
      "outputs": [
        {
          "output_type": "execute_result",
          "data": {
            "text/plain": [
              "(170,)"
            ]
          },
          "metadata": {},
          "execution_count": 118
        }
      ]
    },
    {
      "cell_type": "code",
      "source": [
        "#выделяем features и target-переменную (способ №2)\n",
        "X = df.loc[:,'Atr1':'Atr54']\n",
        "Y = df.Class"
      ],
      "metadata": {
        "id": "OVwGA4qDI8oT"
      },
      "execution_count": null,
      "outputs": []
    },
    {
      "cell_type": "code",
      "source": [
        "X.shape"
      ],
      "metadata": {
        "colab": {
          "base_uri": "https://localhost:8080/"
        },
        "id": "z8WRHBGAJyHr",
        "outputId": "30a0894f-f6f1-4470-dcb1-31eb6d9641ae"
      },
      "execution_count": null,
      "outputs": [
        {
          "output_type": "execute_result",
          "data": {
            "text/plain": [
              "(170, 54)"
            ]
          },
          "metadata": {},
          "execution_count": 41
        }
      ]
    },
    {
      "cell_type": "code",
      "source": [
        "Y.shape"
      ],
      "metadata": {
        "colab": {
          "base_uri": "https://localhost:8080/"
        },
        "id": "lcCPFSFUKXzc",
        "outputId": "f4076a1c-56d3-4e89-9eff-320a942cdb69"
      },
      "execution_count": null,
      "outputs": [
        {
          "output_type": "execute_result",
          "data": {
            "text/plain": [
              "(170,)"
            ]
          },
          "metadata": {},
          "execution_count": 42
        }
      ]
    },
    {
      "cell_type": "code",
      "source": [
        "kfold = KFold(n_splits=5, random_state=17, shuffle=True)"
      ],
      "metadata": {
        "id": "CYngquTxKdAu"
      },
      "execution_count": null,
      "outputs": []
    },
    {
      "cell_type": "code",
      "source": [
        "#использование моделей поодиночке\n",
        "model_knn = KNeighborsClassifier()\n",
        "results_knn = cross_val_score(model_knn, X, Y, cv=kfold, scoring='accuracy')\n",
        "print(results_knn.mean())"
      ],
      "metadata": {
        "colab": {
          "base_uri": "https://localhost:8080/"
        },
        "id": "s6-u3V0eLusJ",
        "outputId": "164d4460-2319-429a-d515-7664267e1b63"
      },
      "execution_count": null,
      "outputs": [
        {
          "output_type": "stream",
          "name": "stdout",
          "text": [
            "0.9764705882352942\n"
          ]
        }
      ]
    },
    {
      "cell_type": "code",
      "source": [
        "model_nb = GaussianNB()\n",
        "results_nb = cross_val_score(model_nb, X, Y, cv=kfold, scoring='accuracy')\n",
        "print(results_nb.mean())"
      ],
      "metadata": {
        "colab": {
          "base_uri": "https://localhost:8080/"
        },
        "id": "JxuvMF78Lujq",
        "outputId": "2484b402-fdb2-4792-fe24-179faf0f86f4"
      },
      "execution_count": null,
      "outputs": [
        {
          "output_type": "stream",
          "name": "stdout",
          "text": [
            "0.9529411764705882\n"
          ]
        }
      ]
    },
    {
      "cell_type": "code",
      "source": [
        "model_dt = DecisionTreeClassifier()\n",
        "results_dt = cross_val_score(model_dt, X, Y, cv=kfold, scoring='accuracy')\n",
        "print(results_dt.mean())"
      ],
      "metadata": {
        "colab": {
          "base_uri": "https://localhost:8080/"
        },
        "id": "KZHZlFEEKuAz",
        "outputId": "7329000f-787c-4fd2-a6b6-2d44ad15c53f"
      },
      "execution_count": null,
      "outputs": [
        {
          "output_type": "stream",
          "name": "stdout",
          "text": [
            "0.9411764705882352\n"
          ]
        }
      ]
    },
    {
      "cell_type": "code",
      "source": [
        "model_lr = LogisticRegression(solver='liblinear')\n",
        "results_lr = cross_val_score(model_lr, X, Y, cv=kfold, scoring='accuracy')\n",
        "print(results_lr.mean())"
      ],
      "metadata": {
        "colab": {
          "base_uri": "https://localhost:8080/"
        },
        "id": "YfA5iYG5LkyQ",
        "outputId": "21f5f514-5ef0-4df7-fcb2-ef9becc2293b"
      },
      "execution_count": null,
      "outputs": [
        {
          "output_type": "stream",
          "name": "stdout",
          "text": [
            "0.9705882352941175\n"
          ]
        }
      ]
    },
    {
      "cell_type": "code",
      "source": [
        "model_svc = SVC()\n",
        "results_svc = cross_val_score(model_svc, X, Y, cv=kfold, scoring='accuracy')\n",
        "print(results_svc.mean())"
      ],
      "metadata": {
        "colab": {
          "base_uri": "https://localhost:8080/"
        },
        "id": "2_522zqVMxe8",
        "outputId": "a8e6ec2e-04c6-440b-e485-0ab771ab6f37"
      },
      "execution_count": null,
      "outputs": [
        {
          "output_type": "stream",
          "name": "stdout",
          "text": [
            "0.9764705882352942\n"
          ]
        }
      ]
    },
    {
      "cell_type": "code",
      "source": [
        "#ансамбли моделей\n",
        "from sklearn.ensemble import BaggingClassifier, RandomForestClassifier, ExtraTreesClassifier, AdaBoostClassifier, GradientBoostingClassifier, VotingClassifier\n",
        "from xgboost import XGBClassifier"
      ],
      "metadata": {
        "id": "Ei4H4e_SM6iJ"
      },
      "execution_count": null,
      "outputs": []
    },
    {
      "cell_type": "code",
      "source": [
        "model = BaggingClassifier(base_estimator=model_dt, n_estimators=100, random_state=7)\n",
        "results_bag = cross_val_score(model, X, Y, cv=kfold, scoring='accuracy')\n",
        "print(results_bag.mean())"
      ],
      "metadata": {
        "colab": {
          "base_uri": "https://localhost:8080/"
        },
        "id": "djMo8bsMNxCm",
        "outputId": "6c00bc14-48a1-4f9a-a852-b0be1b39d6ab"
      },
      "execution_count": null,
      "outputs": [
        {
          "output_type": "stream",
          "name": "stderr",
          "text": [
            "/usr/local/lib/python3.10/dist-packages/sklearn/ensemble/_base.py:166: FutureWarning: `base_estimator` was renamed to `estimator` in version 1.2 and will be removed in 1.4.\n",
            "  warnings.warn(\n",
            "/usr/local/lib/python3.10/dist-packages/sklearn/ensemble/_base.py:166: FutureWarning: `base_estimator` was renamed to `estimator` in version 1.2 and will be removed in 1.4.\n",
            "  warnings.warn(\n",
            "/usr/local/lib/python3.10/dist-packages/sklearn/ensemble/_base.py:166: FutureWarning: `base_estimator` was renamed to `estimator` in version 1.2 and will be removed in 1.4.\n",
            "  warnings.warn(\n",
            "/usr/local/lib/python3.10/dist-packages/sklearn/ensemble/_base.py:166: FutureWarning: `base_estimator` was renamed to `estimator` in version 1.2 and will be removed in 1.4.\n",
            "  warnings.warn(\n",
            "/usr/local/lib/python3.10/dist-packages/sklearn/ensemble/_base.py:166: FutureWarning: `base_estimator` was renamed to `estimator` in version 1.2 and will be removed in 1.4.\n",
            "  warnings.warn(\n"
          ]
        },
        {
          "output_type": "stream",
          "name": "stdout",
          "text": [
            "0.9764705882352942\n"
          ]
        }
      ]
    },
    {
      "cell_type": "code",
      "source": [
        "model = RandomForestClassifier(n_estimators=100, max_features=4)\n",
        "results_rf = cross_val_score(model, X, Y, cv=kfold, scoring='accuracy')\n",
        "print(results_rf.mean())"
      ],
      "metadata": {
        "colab": {
          "base_uri": "https://localhost:8080/"
        },
        "id": "kH9nV198Qk18",
        "outputId": "2d1b78d5-29c1-45b5-9773-93abdf90d96c"
      },
      "execution_count": null,
      "outputs": [
        {
          "output_type": "stream",
          "name": "stdout",
          "text": [
            "0.9764705882352942\n"
          ]
        }
      ]
    },
    {
      "cell_type": "code",
      "source": [
        "model = AdaBoostClassifier(n_estimators=100, random_state=7)\n",
        "results_ada = cross_val_score(model, X, Y, cv=kfold, scoring='accuracy')\n",
        "print(results_ada.mean())"
      ],
      "metadata": {
        "colab": {
          "base_uri": "https://localhost:8080/"
        },
        "id": "QulkyjlmQqPd",
        "outputId": "e79892a1-8e08-429d-b5d6-aaa14bf18043"
      },
      "execution_count": null,
      "outputs": [
        {
          "output_type": "stream",
          "name": "stdout",
          "text": [
            "0.9588235294117646\n"
          ]
        }
      ]
    },
    {
      "cell_type": "code",
      "source": [
        "model = GradientBoostingClassifier(n_estimators=100, random_state=7)\n",
        "results_gb = cross_val_score(model, X, Y, cv=kfold, scoring='accuracy')\n",
        "print(results_gb.mean())"
      ],
      "metadata": {
        "colab": {
          "base_uri": "https://localhost:8080/"
        },
        "id": "4yIVWupqQ3p9",
        "outputId": "692ed839-76a4-4680-e70f-eaa8adb8c8df"
      },
      "execution_count": null,
      "outputs": [
        {
          "output_type": "stream",
          "name": "stdout",
          "text": [
            "0.9470588235294117\n"
          ]
        }
      ]
    },
    {
      "cell_type": "code",
      "source": [
        "model = XGBClassifier(seed=7, n_estimators=100, max_depth=6, learning_rate=0.3)\n",
        "results_xgb = cross_val_score(model, X, Y, scoring='accuracy', cv=kfold)\n",
        "print(results_xgb.mean())"
      ],
      "metadata": {
        "colab": {
          "base_uri": "https://localhost:8080/"
        },
        "id": "pEGIzB6nNOgW",
        "outputId": "b6db44a2-7208-4e44-b6ea-52376027e6e1"
      },
      "execution_count": null,
      "outputs": [
        {
          "output_type": "stream",
          "name": "stdout",
          "text": [
            "0.9764705882352942\n"
          ]
        }
      ]
    },
    {
      "cell_type": "code",
      "source": [
        "estimators = []\n",
        "estimators.append(('knn', KNeighborsClassifier()))\n",
        "estimators.append(('nb', GaussianNB()))\n",
        "estimators.append(('dt', DecisionTreeClassifier()))\n",
        "estimators.append(('lr', LogisticRegression()))\n",
        "estimators.append(('svc', SVC()))"
      ],
      "metadata": {
        "id": "XC5xdGHaOGa8"
      },
      "execution_count": null,
      "outputs": []
    },
    {
      "cell_type": "code",
      "source": [
        "ensemble = VotingClassifier(estimators)"
      ],
      "metadata": {
        "id": "5-1aBYNxO5ff"
      },
      "execution_count": null,
      "outputs": []
    },
    {
      "cell_type": "code",
      "source": [
        "results_vot = cross_val_score(ensemble, X, Y, scoring='accuracy', cv=kfold)\n",
        "print(results_vot.mean())"
      ],
      "metadata": {
        "colab": {
          "base_uri": "https://localhost:8080/"
        },
        "id": "Ma2WxSSQOvtW",
        "outputId": "a57e8e88-3a21-425b-9aa6-931a903a0038"
      },
      "execution_count": null,
      "outputs": [
        {
          "output_type": "stream",
          "name": "stdout",
          "text": [
            "0.9764705882352942\n"
          ]
        }
      ]
    },
    {
      "cell_type": "code",
      "source": [
        "from sklearn.model_selection import train_test_split"
      ],
      "metadata": {
        "id": "OPuCahcnPeGl"
      },
      "execution_count": null,
      "outputs": []
    },
    {
      "cell_type": "code",
      "source": [
        "X_train, X_test, Y_train, Y_test = train_test_split(X, Y, test_size=0.2, random_state=17)"
      ],
      "metadata": {
        "id": "OizTk_L4Pnor"
      },
      "execution_count": null,
      "outputs": []
    },
    {
      "cell_type": "code",
      "source": [
        "results = []\n",
        "results.append(('knn', results_knn.mean()))\n",
        "results.append(('nb', results_nb.mean()))\n",
        "results.append(('dt', results_dt.mean()))\n",
        "results.append(('lr', results_lr.mean()))\n",
        "results.append(('svc', results_svc.mean()))\n",
        "results.append(('bag', results_bag.mean()))\n",
        "results.append(('rf', results_rf.mean()))\n",
        "results.append(('ada', results_ada.mean()))\n",
        "results.append(('gb', results_gb.mean()))\n",
        "results.append(('xgb', results_xgb.mean()))\n",
        "results.append(('vot', results_vot.mean()))"
      ],
      "metadata": {
        "id": "0odVZNodPz1k"
      },
      "execution_count": null,
      "outputs": []
    },
    {
      "cell_type": "code",
      "source": [
        "results"
      ],
      "metadata": {
        "colab": {
          "base_uri": "https://localhost:8080/"
        },
        "id": "-tZDnCvzRJEp",
        "outputId": "8a977b65-b199-4a62-acf1-3f45336fcbfa"
      },
      "execution_count": null,
      "outputs": [
        {
          "output_type": "execute_result",
          "data": {
            "text/plain": [
              "[('knn', 0.9764705882352942),\n",
              " ('nb', 0.9529411764705882),\n",
              " ('dt', 0.9411764705882352),\n",
              " ('lr', 0.9705882352941175),\n",
              " ('svc', 0.9764705882352942),\n",
              " ('bag', 0.9764705882352942),\n",
              " ('rf', 0.9764705882352942),\n",
              " ('ada', 0.9588235294117646),\n",
              " ('gb', 0.9470588235294117),\n",
              " ('xgb', 0.9764705882352942),\n",
              " ('vot', 0.9764705882352942)]"
            ]
          },
          "metadata": {},
          "execution_count": 95
        }
      ]
    },
    {
      "cell_type": "code",
      "source": [
        "vot = ensemble.fit(X_train, Y_train)\n",
        "vot_pred = ensemble.predict(X_test)"
      ],
      "metadata": {
        "id": "44zKvUdsSgzS"
      },
      "execution_count": null,
      "outputs": []
    },
    {
      "cell_type": "code",
      "source": [
        "#импорт метрик\n",
        "from sklearn.metrics import confusion_matrix, classification_report"
      ],
      "metadata": {
        "id": "Sn5454FaSfBc"
      },
      "execution_count": null,
      "outputs": []
    },
    {
      "cell_type": "code",
      "source": [
        "confusion_matrix(Y_test, vot_pred)"
      ],
      "metadata": {
        "colab": {
          "base_uri": "https://localhost:8080/"
        },
        "id": "zDssiYSFS-s8",
        "outputId": "906fd9c3-a2be-477d-9d87-fd24ed0de7f3"
      },
      "execution_count": null,
      "outputs": [
        {
          "output_type": "execute_result",
          "data": {
            "text/plain": [
              "array([[21,  0],\n",
              "       [ 2, 11]])"
            ]
          },
          "metadata": {},
          "execution_count": 100
        }
      ]
    },
    {
      "cell_type": "code",
      "source": [
        "print(classification_report(Y_test, vot_pred))"
      ],
      "metadata": {
        "colab": {
          "base_uri": "https://localhost:8080/"
        },
        "id": "30gackHzTOIm",
        "outputId": "abbdc9f9-4436-487e-a97f-1a20d79f3018"
      },
      "execution_count": null,
      "outputs": [
        {
          "output_type": "stream",
          "name": "stdout",
          "text": [
            "              precision    recall  f1-score   support\n",
            "\n",
            "           0       0.91      1.00      0.95        21\n",
            "           1       1.00      0.85      0.92        13\n",
            "\n",
            "    accuracy                           0.94        34\n",
            "   macro avg       0.96      0.92      0.94        34\n",
            "weighted avg       0.95      0.94      0.94        34\n",
            "\n"
          ]
        }
      ]
    }
  ]
}